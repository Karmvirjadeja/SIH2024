{
 "cells": [
  {
   "cell_type": "markdown",
   "id": "834c888c-0349-4097-8749-be8c00560c79",
   "metadata": {},
   "source": [
    "# Data Preprocessing"
   ]
  },
  {
   "cell_type": "markdown",
   "id": "fd99d397-bbdd-4c9b-afab-df2e191313f0",
   "metadata": {},
   "source": [
    "### Importing Libraries"
   ]
  },
  {
   "cell_type": "code",
   "execution_count": 1,
   "id": "26d12c65-2c1b-4174-8de2-e2abbc81fc38",
   "metadata": {},
   "outputs": [],
   "source": [
    "import numpy as np\n",
    "import pandas as pd"
   ]
  },
  {
   "cell_type": "markdown",
   "id": "76c5258f-9cd4-401b-b8bd-2b7c994bbab9",
   "metadata": {},
   "source": [
    "### Importing Dataset"
   ]
  },
  {
   "cell_type": "code",
   "execution_count": 2,
   "id": "a7c5baca-ef5c-490f-99de-f7eeef0d1d1d",
   "metadata": {},
   "outputs": [],
   "source": [
    "df = pd.read_csv('ship_fuel_consumption_by_size.csv')"
   ]
  },
  {
   "cell_type": "markdown",
   "id": "042aa64f-c084-495c-a491-2090353768fe",
   "metadata": {},
   "source": [
    "### Data understanding"
   ]
  },
  {
   "cell_type": "code",
   "execution_count": 3,
   "id": "ccac6147-2e6d-45e5-a664-c6769e010fc7",
   "metadata": {},
   "outputs": [
    {
     "name": "stdout",
     "output_type": "stream",
     "text": [
      "<class 'pandas.core.frame.DataFrame'>\n",
      "RangeIndex: 10000 entries, 0 to 9999\n",
      "Data columns (total 4 columns):\n",
      " #   Column                            Non-Null Count  Dtype  \n",
      "---  ------                            --------------  -----  \n",
      " 0   Ship_Size                         10000 non-null  object \n",
      " 1   Engine_Power_kW                   10000 non-null  float64\n",
      " 2   Speed_knots                       10000 non-null  float64\n",
      " 3   Fuel_Consumption_tonnes_per_hour  10000 non-null  float64\n",
      "dtypes: float64(3), object(1)\n",
      "memory usage: 312.6+ KB\n"
     ]
    }
   ],
   "source": [
    "df.info()"
   ]
  },
  {
   "cell_type": "code",
   "execution_count": 4,
   "id": "299bad1b-f691-4f95-b07c-73beae3118eb",
   "metadata": {},
   "outputs": [
    {
     "data": {
      "text/html": [
       "<div>\n",
       "<style scoped>\n",
       "    .dataframe tbody tr th:only-of-type {\n",
       "        vertical-align: middle;\n",
       "    }\n",
       "\n",
       "    .dataframe tbody tr th {\n",
       "        vertical-align: top;\n",
       "    }\n",
       "\n",
       "    .dataframe thead th {\n",
       "        text-align: right;\n",
       "    }\n",
       "</style>\n",
       "<table border=\"1\" class=\"dataframe\">\n",
       "  <thead>\n",
       "    <tr style=\"text-align: right;\">\n",
       "      <th></th>\n",
       "      <th>Engine_Power_kW</th>\n",
       "      <th>Speed_knots</th>\n",
       "      <th>Fuel_Consumption_tonnes_per_hour</th>\n",
       "    </tr>\n",
       "  </thead>\n",
       "  <tbody>\n",
       "    <tr>\n",
       "      <th>count</th>\n",
       "      <td>10000.000000</td>\n",
       "      <td>10000.000000</td>\n",
       "      <td>10000.000000</td>\n",
       "    </tr>\n",
       "    <tr>\n",
       "      <th>mean</th>\n",
       "      <td>31517.728957</td>\n",
       "      <td>18.393730</td>\n",
       "      <td>169.911922</td>\n",
       "    </tr>\n",
       "    <tr>\n",
       "      <th>std</th>\n",
       "      <td>29039.084924</td>\n",
       "      <td>5.259232</td>\n",
       "      <td>239.595856</td>\n",
       "    </tr>\n",
       "    <tr>\n",
       "      <th>min</th>\n",
       "      <td>504.910000</td>\n",
       "      <td>10.000000</td>\n",
       "      <td>0.050000</td>\n",
       "    </tr>\n",
       "    <tr>\n",
       "      <th>25%</th>\n",
       "      <td>5360.607500</td>\n",
       "      <td>13.900000</td>\n",
       "      <td>3.897500</td>\n",
       "    </tr>\n",
       "    <tr>\n",
       "      <th>50%</th>\n",
       "      <td>20544.705000</td>\n",
       "      <td>17.800000</td>\n",
       "      <td>53.420000</td>\n",
       "    </tr>\n",
       "    <tr>\n",
       "      <th>75%</th>\n",
       "      <td>49872.207500</td>\n",
       "      <td>22.525000</td>\n",
       "      <td>180.105000</td>\n",
       "    </tr>\n",
       "    <tr>\n",
       "      <th>max</th>\n",
       "      <td>99985.690000</td>\n",
       "      <td>30.000000</td>\n",
       "      <td>895.670000</td>\n",
       "    </tr>\n",
       "  </tbody>\n",
       "</table>\n",
       "</div>"
      ],
      "text/plain": [
       "       Engine_Power_kW   Speed_knots  Fuel_Consumption_tonnes_per_hour\n",
       "count     10000.000000  10000.000000                      10000.000000\n",
       "mean      31517.728957     18.393730                        169.911922\n",
       "std       29039.084924      5.259232                        239.595856\n",
       "min         504.910000     10.000000                          0.050000\n",
       "25%        5360.607500     13.900000                          3.897500\n",
       "50%       20544.705000     17.800000                         53.420000\n",
       "75%       49872.207500     22.525000                        180.105000\n",
       "max       99985.690000     30.000000                        895.670000"
      ]
     },
     "execution_count": 4,
     "metadata": {},
     "output_type": "execute_result"
    }
   ],
   "source": [
    "df.describe()"
   ]
  },
  {
   "cell_type": "markdown",
   "id": "918abb25-780e-49e0-9197-9f99a948f046",
   "metadata": {},
   "source": [
    "### Data Manipulation"
   ]
  },
  {
   "cell_type": "markdown",
   "id": "b418f155-0f8b-421d-bc48-33770f09840b",
   "metadata": {},
   "source": [
    "#### Applying Feature scaling on the data"
   ]
  },
  {
   "cell_type": "code",
   "execution_count": 5,
   "id": "4e3938d5-940c-4b02-a652-4f38332be1ac",
   "metadata": {
    "scrolled": true
   },
   "outputs": [
    {
     "name": "stdout",
     "output_type": "stream",
     "text": [
      "<class 'pandas.core.frame.DataFrame'>\n",
      "RangeIndex: 10000 entries, 0 to 9999\n",
      "Data columns (total 4 columns):\n",
      " #   Column                            Non-Null Count  Dtype  \n",
      "---  ------                            --------------  -----  \n",
      " 0   Ship_Size                         10000 non-null  object \n",
      " 1   Engine_Power_kW                   10000 non-null  float64\n",
      " 2   Speed_knots                       10000 non-null  float64\n",
      " 3   Fuel_Consumption_tonnes_per_hour  10000 non-null  float64\n",
      "dtypes: float64(3), object(1)\n",
      "memory usage: 312.6+ KB\n"
     ]
    }
   ],
   "source": [
    "df.info()"
   ]
  },
  {
   "cell_type": "code",
   "execution_count": 6,
   "id": "84df5e12-1766-4eeb-aaec-9416843487b1",
   "metadata": {},
   "outputs": [],
   "source": [
    "columns_to_scale = [\"Engine_Power_kW\", \"Speed_knots\"]"
   ]
  },
  {
   "cell_type": "code",
   "execution_count": 7,
   "id": "00f5385d-8b7f-4c7d-9daf-5bf126ed29c4",
   "metadata": {},
   "outputs": [],
   "source": [
    "from sklearn.preprocessing import StandardScaler"
   ]
  },
  {
   "cell_type": "code",
   "execution_count": 8,
   "id": "a02fd9fc-3369-4f0c-b168-d3d6e068a178",
   "metadata": {},
   "outputs": [],
   "source": [
    "st_scaler = StandardScaler()"
   ]
  },
  {
   "cell_type": "code",
   "execution_count": 9,
   "id": "f2baed44-083c-4a65-8af4-60118cef8c99",
   "metadata": {},
   "outputs": [],
   "source": [
    "df[columns_to_scale] = st_scaler.fit_transform(df[columns_to_scale])"
   ]
  },
  {
   "cell_type": "code",
   "execution_count": 10,
   "id": "c186d7b4-6c55-4a51-be5f-c65358b91136",
   "metadata": {},
   "outputs": [
    {
     "data": {
      "text/html": [
       "<div>\n",
       "<style scoped>\n",
       "    .dataframe tbody tr th:only-of-type {\n",
       "        vertical-align: middle;\n",
       "    }\n",
       "\n",
       "    .dataframe tbody tr th {\n",
       "        vertical-align: top;\n",
       "    }\n",
       "\n",
       "    .dataframe thead th {\n",
       "        text-align: right;\n",
       "    }\n",
       "</style>\n",
       "<table border=\"1\" class=\"dataframe\">\n",
       "  <thead>\n",
       "    <tr style=\"text-align: right;\">\n",
       "      <th></th>\n",
       "      <th>Engine_Power_kW</th>\n",
       "      <th>Speed_knots</th>\n",
       "      <th>Fuel_Consumption_tonnes_per_hour</th>\n",
       "    </tr>\n",
       "  </thead>\n",
       "  <tbody>\n",
       "    <tr>\n",
       "      <th>count</th>\n",
       "      <td>1.000000e+04</td>\n",
       "      <td>1.000000e+04</td>\n",
       "      <td>10000.000000</td>\n",
       "    </tr>\n",
       "    <tr>\n",
       "      <th>mean</th>\n",
       "      <td>2.415845e-17</td>\n",
       "      <td>-2.671641e-16</td>\n",
       "      <td>169.911922</td>\n",
       "    </tr>\n",
       "    <tr>\n",
       "      <th>std</th>\n",
       "      <td>1.000050e+00</td>\n",
       "      <td>1.000050e+00</td>\n",
       "      <td>239.595856</td>\n",
       "    </tr>\n",
       "    <tr>\n",
       "      <th>min</th>\n",
       "      <td>-1.068022e+00</td>\n",
       "      <td>-1.596079e+00</td>\n",
       "      <td>0.050000</td>\n",
       "    </tr>\n",
       "    <tr>\n",
       "      <th>25%</th>\n",
       "      <td>-9.008007e-01</td>\n",
       "      <td>-8.544888e-01</td>\n",
       "      <td>3.897500</td>\n",
       "    </tr>\n",
       "    <tr>\n",
       "      <th>50%</th>\n",
       "      <td>-3.778898e-01</td>\n",
       "      <td>-1.128986e-01</td>\n",
       "      <td>53.420000</td>\n",
       "    </tr>\n",
       "    <tr>\n",
       "      <th>75%</th>\n",
       "      <td>6.320928e-01</td>\n",
       "      <td>7.855666e-01</td>\n",
       "      <td>180.105000</td>\n",
       "    </tr>\n",
       "    <tr>\n",
       "      <th>max</th>\n",
       "      <td>2.357904e+00</td>\n",
       "      <td>2.206948e+00</td>\n",
       "      <td>895.670000</td>\n",
       "    </tr>\n",
       "  </tbody>\n",
       "</table>\n",
       "</div>"
      ],
      "text/plain": [
       "       Engine_Power_kW   Speed_knots  Fuel_Consumption_tonnes_per_hour\n",
       "count     1.000000e+04  1.000000e+04                      10000.000000\n",
       "mean      2.415845e-17 -2.671641e-16                        169.911922\n",
       "std       1.000050e+00  1.000050e+00                        239.595856\n",
       "min      -1.068022e+00 -1.596079e+00                          0.050000\n",
       "25%      -9.008007e-01 -8.544888e-01                          3.897500\n",
       "50%      -3.778898e-01 -1.128986e-01                         53.420000\n",
       "75%       6.320928e-01  7.855666e-01                        180.105000\n",
       "max       2.357904e+00  2.206948e+00                        895.670000"
      ]
     },
     "execution_count": 10,
     "metadata": {},
     "output_type": "execute_result"
    }
   ],
   "source": [
    "df.describe()"
   ]
  },
  {
   "cell_type": "markdown",
   "id": "272b633c-192f-4b9a-a6c7-193404313c75",
   "metadata": {},
   "source": [
    "#### Applying One Hot Encoding to the \"Ship_size\" column, to categorize the column."
   ]
  },
  {
   "cell_type": "code",
   "execution_count": 11,
   "id": "b4bb26f0-55bf-4654-a4f7-81011c9d5c61",
   "metadata": {},
   "outputs": [],
   "source": [
    "from sklearn.preprocessing import OneHotEncoder"
   ]
  },
  {
   "cell_type": "code",
   "execution_count": 12,
   "id": "0361d19d-1146-4b36-94e3-881d1f372fcc",
   "metadata": {},
   "outputs": [],
   "source": [
    "one_encoder = OneHotEncoder(sparse_output=False, drop='first')  # Use drop='first' to avoid multicollinearity if needed"
   ]
  },
  {
   "cell_type": "code",
   "execution_count": 13,
   "id": "c545ad44-6680-4936-b531-e84fc710c310",
   "metadata": {},
   "outputs": [],
   "source": [
    "encoded_ship_size = one_encoder.fit_transform(df[['Ship_Size']])"
   ]
  },
  {
   "cell_type": "code",
   "execution_count": 14,
   "id": "ef89a0cd-3269-40aa-8757-977021d1fd6e",
   "metadata": {},
   "outputs": [],
   "source": [
    "encoded_columns = one_encoder.get_feature_names_out(['Ship_Size'])\n",
    "encoded_df = pd.DataFrame(encoded_ship_size, columns=encoded_columns)"
   ]
  },
  {
   "cell_type": "code",
   "execution_count": 15,
   "id": "218eed07-953e-4512-bf41-e04eaa770f20",
   "metadata": {},
   "outputs": [],
   "source": [
    "df = pd.concat([df, encoded_df], axis=1).drop(columns=['Ship_Size'])"
   ]
  },
  {
   "cell_type": "code",
   "execution_count": 16,
   "id": "6cb3b252-7354-4643-a3cf-29ddf23482df",
   "metadata": {},
   "outputs": [
    {
     "name": "stdout",
     "output_type": "stream",
     "text": [
      "<class 'pandas.core.frame.DataFrame'>\n",
      "RangeIndex: 10000 entries, 0 to 9999\n",
      "Data columns (total 6 columns):\n",
      " #   Column                            Non-Null Count  Dtype  \n",
      "---  ------                            --------------  -----  \n",
      " 0   Engine_Power_kW                   10000 non-null  float64\n",
      " 1   Speed_knots                       10000 non-null  float64\n",
      " 2   Fuel_Consumption_tonnes_per_hour  10000 non-null  float64\n",
      " 3   Ship_Size_Medium                  10000 non-null  float64\n",
      " 4   Ship_Size_Small                   10000 non-null  float64\n",
      " 5   Ship_Size_Very Large              10000 non-null  float64\n",
      "dtypes: float64(6)\n",
      "memory usage: 468.9 KB\n"
     ]
    }
   ],
   "source": [
    "df.info()"
   ]
  },
  {
   "cell_type": "code",
   "execution_count": 17,
   "id": "e5b5442b-ab6b-4c15-9153-cfe361824590",
   "metadata": {},
   "outputs": [
    {
     "data": {
      "text/html": [
       "<div>\n",
       "<style scoped>\n",
       "    .dataframe tbody tr th:only-of-type {\n",
       "        vertical-align: middle;\n",
       "    }\n",
       "\n",
       "    .dataframe tbody tr th {\n",
       "        vertical-align: top;\n",
       "    }\n",
       "\n",
       "    .dataframe thead th {\n",
       "        text-align: right;\n",
       "    }\n",
       "</style>\n",
       "<table border=\"1\" class=\"dataframe\">\n",
       "  <thead>\n",
       "    <tr style=\"text-align: right;\">\n",
       "      <th></th>\n",
       "      <th>Engine_Power_kW</th>\n",
       "      <th>Speed_knots</th>\n",
       "      <th>Fuel_Consumption_tonnes_per_hour</th>\n",
       "      <th>Ship_Size_Medium</th>\n",
       "      <th>Ship_Size_Small</th>\n",
       "      <th>Ship_Size_Very Large</th>\n",
       "    </tr>\n",
       "  </thead>\n",
       "  <tbody>\n",
       "    <tr>\n",
       "      <th>count</th>\n",
       "      <td>1.000000e+04</td>\n",
       "      <td>1.000000e+04</td>\n",
       "      <td>10000.000000</td>\n",
       "      <td>10000.000000</td>\n",
       "      <td>10000.000000</td>\n",
       "      <td>10000.000000</td>\n",
       "    </tr>\n",
       "    <tr>\n",
       "      <th>mean</th>\n",
       "      <td>2.415845e-17</td>\n",
       "      <td>-2.671641e-16</td>\n",
       "      <td>169.911922</td>\n",
       "      <td>0.253100</td>\n",
       "      <td>0.243300</td>\n",
       "      <td>0.249100</td>\n",
       "    </tr>\n",
       "    <tr>\n",
       "      <th>std</th>\n",
       "      <td>1.000050e+00</td>\n",
       "      <td>1.000050e+00</td>\n",
       "      <td>239.595856</td>\n",
       "      <td>0.434809</td>\n",
       "      <td>0.429096</td>\n",
       "      <td>0.432513</td>\n",
       "    </tr>\n",
       "    <tr>\n",
       "      <th>min</th>\n",
       "      <td>-1.068022e+00</td>\n",
       "      <td>-1.596079e+00</td>\n",
       "      <td>0.050000</td>\n",
       "      <td>0.000000</td>\n",
       "      <td>0.000000</td>\n",
       "      <td>0.000000</td>\n",
       "    </tr>\n",
       "    <tr>\n",
       "      <th>25%</th>\n",
       "      <td>-9.008007e-01</td>\n",
       "      <td>-8.544888e-01</td>\n",
       "      <td>3.897500</td>\n",
       "      <td>0.000000</td>\n",
       "      <td>0.000000</td>\n",
       "      <td>0.000000</td>\n",
       "    </tr>\n",
       "    <tr>\n",
       "      <th>50%</th>\n",
       "      <td>-3.778898e-01</td>\n",
       "      <td>-1.128986e-01</td>\n",
       "      <td>53.420000</td>\n",
       "      <td>0.000000</td>\n",
       "      <td>0.000000</td>\n",
       "      <td>0.000000</td>\n",
       "    </tr>\n",
       "    <tr>\n",
       "      <th>75%</th>\n",
       "      <td>6.320928e-01</td>\n",
       "      <td>7.855666e-01</td>\n",
       "      <td>180.105000</td>\n",
       "      <td>1.000000</td>\n",
       "      <td>0.000000</td>\n",
       "      <td>0.000000</td>\n",
       "    </tr>\n",
       "    <tr>\n",
       "      <th>max</th>\n",
       "      <td>2.357904e+00</td>\n",
       "      <td>2.206948e+00</td>\n",
       "      <td>895.670000</td>\n",
       "      <td>1.000000</td>\n",
       "      <td>1.000000</td>\n",
       "      <td>1.000000</td>\n",
       "    </tr>\n",
       "  </tbody>\n",
       "</table>\n",
       "</div>"
      ],
      "text/plain": [
       "       Engine_Power_kW   Speed_knots  Fuel_Consumption_tonnes_per_hour   \n",
       "count     1.000000e+04  1.000000e+04                      10000.000000  \\\n",
       "mean      2.415845e-17 -2.671641e-16                        169.911922   \n",
       "std       1.000050e+00  1.000050e+00                        239.595856   \n",
       "min      -1.068022e+00 -1.596079e+00                          0.050000   \n",
       "25%      -9.008007e-01 -8.544888e-01                          3.897500   \n",
       "50%      -3.778898e-01 -1.128986e-01                         53.420000   \n",
       "75%       6.320928e-01  7.855666e-01                        180.105000   \n",
       "max       2.357904e+00  2.206948e+00                        895.670000   \n",
       "\n",
       "       Ship_Size_Medium  Ship_Size_Small  Ship_Size_Very Large  \n",
       "count      10000.000000     10000.000000          10000.000000  \n",
       "mean           0.253100         0.243300              0.249100  \n",
       "std            0.434809         0.429096              0.432513  \n",
       "min            0.000000         0.000000              0.000000  \n",
       "25%            0.000000         0.000000              0.000000  \n",
       "50%            0.000000         0.000000              0.000000  \n",
       "75%            1.000000         0.000000              0.000000  \n",
       "max            1.000000         1.000000              1.000000  "
      ]
     },
     "execution_count": 17,
     "metadata": {},
     "output_type": "execute_result"
    }
   ],
   "source": [
    "df.describe()"
   ]
  },
  {
   "cell_type": "markdown",
   "id": "cf21ea0b-2370-4f24-bb7e-bd27ad3ad47c",
   "metadata": {},
   "source": [
    "### Dividing dataset"
   ]
  },
  {
   "cell_type": "code",
   "execution_count": 18,
   "id": "7dd3daaf-983d-4c26-a7fe-a35313907157",
   "metadata": {},
   "outputs": [],
   "source": [
    "from sklearn.model_selection import train_test_split"
   ]
  },
  {
   "cell_type": "code",
   "execution_count": 19,
   "id": "8e16f128-7a4c-4ae0-a740-0b248055ee3d",
   "metadata": {},
   "outputs": [],
   "source": [
    "training_col = ['Engine_Power_kW', 'Speed_knots', 'Ship_Size_Medium', 'Ship_Size_Small', 'Ship_Size_Very Large']\n",
    "test_col = ['Fuel_Consumption_tonnes_per_hour']"
   ]
  },
  {
   "cell_type": "code",
   "execution_count": 20,
   "id": "861be3d9-70cc-4a84-9355-a2423dbad369",
   "metadata": {},
   "outputs": [],
   "source": [
    "X_train, X_test, y_train, y_test = train_test_split(df[training_col], df[test_col], test_size=0.2, random_state=42)"
   ]
  },
  {
   "cell_type": "code",
   "execution_count": 21,
   "id": "7f53bb20-7eee-4eac-8363-6c8bcd5785e2",
   "metadata": {},
   "outputs": [
    {
     "name": "stdout",
     "output_type": "stream",
     "text": [
      "X_train.shape (8000, 5)\n",
      "X_test.shape (2000, 5)\n",
      "y_train.shape (8000, 1)\n",
      "y_test.shape (2000, 1)\n"
     ]
    }
   ],
   "source": [
    "print(\"X_train.shape\", X_train.shape)\n",
    "print(\"X_test.shape\", X_test.shape)\n",
    "print(\"y_train.shape\", y_train.shape)\n",
    "print(\"y_test.shape\", y_test.shape)"
   ]
  },
  {
   "cell_type": "markdown",
   "id": "3e36d863-9af3-485b-bf3b-064b7acec3af",
   "metadata": {},
   "source": [
    "## Building ANN model for Predicting Fuel Consumption"
   ]
  },
  {
   "cell_type": "code",
   "execution_count": 22,
   "id": "a9be5f6c-b52c-49bd-990a-e8b9a1a75af7",
   "metadata": {},
   "outputs": [],
   "source": [
    "import tensorflow as tf"
   ]
  },
  {
   "cell_type": "code",
   "execution_count": 23,
   "id": "ea7a8005-9e14-4ff3-8376-a5c432c7bfcd",
   "metadata": {},
   "outputs": [],
   "source": [
    "from tensorflow.keras.layers import Dense, InputLayer"
   ]
  },
  {
   "cell_type": "code",
   "execution_count": 24,
   "id": "cbae21bc-fb35-4e08-b278-2bd93c1295bd",
   "metadata": {},
   "outputs": [],
   "source": [
    "from tensorflow.keras import Sequential, Input"
   ]
  },
  {
   "cell_type": "code",
   "execution_count": 25,
   "id": "c264754a-f30d-4610-97ce-6c69e01bcdd2",
   "metadata": {},
   "outputs": [],
   "source": [
    "model = Sequential()"
   ]
  },
  {
   "cell_type": "code",
   "execution_count": 26,
   "id": "135d75d9-70f9-463e-99a2-e2888ed4062e",
   "metadata": {},
   "outputs": [],
   "source": [
    "model.add(Input(shape = (5,)))\n",
    "model.add(Dense(units = 8, activation='relu'))\n",
    "model.add(Dense(units = 8, activation='relu'))\n",
    "model.add(Dense(units = 1, activation='relu'))"
   ]
  },
  {
   "cell_type": "code",
   "execution_count": 27,
   "id": "2cb3c4bd-c4d8-414b-87db-54f09a4c5ad6",
   "metadata": {},
   "outputs": [],
   "source": [
    "model.compile(optimizer='adam', loss=\"mean_absolute_error\", metrics='mean_absolute_error')"
   ]
  },
  {
   "cell_type": "code",
   "execution_count": 28,
   "id": "5f98d55b-f6f4-4972-8ac2-aa56e5371b7d",
   "metadata": {},
   "outputs": [
    {
     "name": "stdout",
     "output_type": "stream",
     "text": [
      "Model: \"sequential\"\n",
      "_________________________________________________________________\n",
      " Layer (type)                Output Shape              Param #   \n",
      "=================================================================\n",
      " dense (Dense)               (None, 8)                 48        \n",
      "                                                                 \n",
      " dense_1 (Dense)             (None, 8)                 72        \n",
      "                                                                 \n",
      " dense_2 (Dense)             (None, 1)                 9         \n",
      "                                                                 \n",
      "=================================================================\n",
      "Total params: 129\n",
      "Trainable params: 129\n",
      "Non-trainable params: 0\n",
      "_________________________________________________________________\n"
     ]
    }
   ],
   "source": [
    "model.summary()"
   ]
  },
  {
   "cell_type": "code",
   "execution_count": 29,
   "id": "a0a45054-85ab-4379-a98f-80338a379630",
   "metadata": {
    "scrolled": true
   },
   "outputs": [
    {
     "name": "stdout",
     "output_type": "stream",
     "text": [
      "Epoch 1/100\n",
      "250/250 [==============================] - 1s 2ms/step - loss: 168.9245 - mean_absolute_error: 168.9245\n",
      "Epoch 2/100\n",
      "250/250 [==============================] - 0s 2ms/step - loss: 161.2116 - mean_absolute_error: 161.2116\n",
      "Epoch 3/100\n",
      "250/250 [==============================] - 0s 2ms/step - loss: 144.5126 - mean_absolute_error: 144.5126\n",
      "Epoch 4/100\n",
      "250/250 [==============================] - 0s 1ms/step - loss: 109.9996 - mean_absolute_error: 109.9996\n",
      "Epoch 5/100\n",
      "250/250 [==============================] - 0s 1ms/step - loss: 61.9082 - mean_absolute_error: 61.9082\n",
      "Epoch 6/100\n",
      "250/250 [==============================] - 0s 1ms/step - loss: 29.5851 - mean_absolute_error: 29.5851\n",
      "Epoch 7/100\n",
      "250/250 [==============================] - 0s 1ms/step - loss: 20.7739 - mean_absolute_error: 20.7739\n",
      "Epoch 8/100\n",
      "250/250 [==============================] - 0s 1ms/step - loss: 17.5957 - mean_absolute_error: 17.5957\n",
      "Epoch 9/100\n",
      "250/250 [==============================] - 0s 1ms/step - loss: 15.6461 - mean_absolute_error: 15.6461\n",
      "Epoch 10/100\n",
      "250/250 [==============================] - 0s 2ms/step - loss: 14.5767 - mean_absolute_error: 14.5767\n",
      "Epoch 11/100\n",
      "250/250 [==============================] - 0s 2ms/step - loss: 14.0236 - mean_absolute_error: 14.0236\n",
      "Epoch 12/100\n",
      "250/250 [==============================] - 0s 2ms/step - loss: 13.7557 - mean_absolute_error: 13.7557\n",
      "Epoch 13/100\n",
      "250/250 [==============================] - 0s 1ms/step - loss: 13.6128 - mean_absolute_error: 13.6128\n",
      "Epoch 14/100\n",
      "250/250 [==============================] - 0s 1ms/step - loss: 13.4815 - mean_absolute_error: 13.4815\n",
      "Epoch 15/100\n",
      "250/250 [==============================] - 0s 1ms/step - loss: 13.3706 - mean_absolute_error: 13.3706\n",
      "Epoch 16/100\n",
      "250/250 [==============================] - 0s 1ms/step - loss: 13.2503 - mean_absolute_error: 13.2503\n",
      "Epoch 17/100\n",
      "250/250 [==============================] - 0s 1ms/step - loss: 13.1394 - mean_absolute_error: 13.1394\n",
      "Epoch 18/100\n",
      "250/250 [==============================] - 0s 845us/step - loss: 13.0102 - mean_absolute_error: 13.0102\n",
      "Epoch 19/100\n",
      "250/250 [==============================] - 0s 892us/step - loss: 12.8687 - mean_absolute_error: 12.8687\n",
      "Epoch 20/100\n",
      "250/250 [==============================] - 0s 1ms/step - loss: 12.7170 - mean_absolute_error: 12.7170\n",
      "Epoch 21/100\n",
      "250/250 [==============================] - 0s 927us/step - loss: 12.5488 - mean_absolute_error: 12.5488\n",
      "Epoch 22/100\n",
      "250/250 [==============================] - 0s 926us/step - loss: 12.3186 - mean_absolute_error: 12.3186\n",
      "Epoch 23/100\n",
      "250/250 [==============================] - 0s 849us/step - loss: 12.1002 - mean_absolute_error: 12.1002\n",
      "Epoch 24/100\n",
      "250/250 [==============================] - 0s 851us/step - loss: 11.8513 - mean_absolute_error: 11.8513\n",
      "Epoch 25/100\n",
      "250/250 [==============================] - 0s 821us/step - loss: 11.5739 - mean_absolute_error: 11.5739\n",
      "Epoch 26/100\n",
      "250/250 [==============================] - 0s 956us/step - loss: 11.2778 - mean_absolute_error: 11.2778\n",
      "Epoch 27/100\n",
      "250/250 [==============================] - 0s 859us/step - loss: 10.9979 - mean_absolute_error: 10.9979\n",
      "Epoch 28/100\n",
      "250/250 [==============================] - 0s 896us/step - loss: 10.7436 - mean_absolute_error: 10.7436\n",
      "Epoch 29/100\n",
      "250/250 [==============================] - 0s 834us/step - loss: 10.5121 - mean_absolute_error: 10.5121\n",
      "Epoch 30/100\n",
      "250/250 [==============================] - 0s 1ms/step - loss: 10.2699 - mean_absolute_error: 10.2699\n",
      "Epoch 31/100\n",
      "250/250 [==============================] - 0s 901us/step - loss: 10.0330 - mean_absolute_error: 10.0330\n",
      "Epoch 32/100\n",
      "250/250 [==============================] - 0s 860us/step - loss: 9.7994 - mean_absolute_error: 9.7994\n",
      "Epoch 33/100\n",
      "250/250 [==============================] - 0s 791us/step - loss: 9.5738 - mean_absolute_error: 9.5738\n",
      "Epoch 34/100\n",
      "250/250 [==============================] - 0s 865us/step - loss: 9.3570 - mean_absolute_error: 9.3570\n",
      "Epoch 35/100\n",
      "250/250 [==============================] - 0s 899us/step - loss: 9.1520 - mean_absolute_error: 9.1520\n",
      "Epoch 36/100\n",
      "250/250 [==============================] - 0s 883us/step - loss: 8.9565 - mean_absolute_error: 8.9565\n",
      "Epoch 37/100\n",
      "250/250 [==============================] - 0s 881us/step - loss: 8.7748 - mean_absolute_error: 8.7748\n",
      "Epoch 38/100\n",
      "250/250 [==============================] - 0s 846us/step - loss: 8.5910 - mean_absolute_error: 8.5910\n",
      "Epoch 39/100\n",
      "250/250 [==============================] - 0s 838us/step - loss: 8.4157 - mean_absolute_error: 8.4157\n",
      "Epoch 40/100\n",
      "250/250 [==============================] - 0s 940us/step - loss: 8.2583 - mean_absolute_error: 8.2583\n",
      "Epoch 41/100\n",
      "250/250 [==============================] - 0s 992us/step - loss: 8.1052 - mean_absolute_error: 8.1052\n",
      "Epoch 42/100\n",
      "250/250 [==============================] - 0s 879us/step - loss: 7.9442 - mean_absolute_error: 7.9442\n",
      "Epoch 43/100\n",
      "250/250 [==============================] - 0s 798us/step - loss: 7.7823 - mean_absolute_error: 7.7823\n",
      "Epoch 44/100\n",
      "250/250 [==============================] - 0s 878us/step - loss: 7.6330 - mean_absolute_error: 7.6330\n",
      "Epoch 45/100\n",
      "250/250 [==============================] - 0s 877us/step - loss: 7.4814 - mean_absolute_error: 7.4814\n",
      "Epoch 46/100\n",
      "250/250 [==============================] - 0s 801us/step - loss: 7.3402 - mean_absolute_error: 7.3402\n",
      "Epoch 47/100\n",
      "250/250 [==============================] - 0s 873us/step - loss: 7.1931 - mean_absolute_error: 7.1931\n",
      "Epoch 48/100\n",
      "250/250 [==============================] - 0s 914us/step - loss: 7.0522 - mean_absolute_error: 7.0522\n",
      "Epoch 49/100\n",
      "250/250 [==============================] - 0s 803us/step - loss: 6.8902 - mean_absolute_error: 6.8902\n",
      "Epoch 50/100\n",
      "250/250 [==============================] - 0s 1ms/step - loss: 6.7378 - mean_absolute_error: 6.7378\n",
      "Epoch 51/100\n",
      "250/250 [==============================] - 0s 775us/step - loss: 6.5577 - mean_absolute_error: 6.5577\n",
      "Epoch 52/100\n",
      "250/250 [==============================] - 0s 793us/step - loss: 6.3853 - mean_absolute_error: 6.3853\n",
      "Epoch 53/100\n",
      "250/250 [==============================] - 0s 766us/step - loss: 6.2136 - mean_absolute_error: 6.2136\n",
      "Epoch 54/100\n",
      "250/250 [==============================] - 0s 813us/step - loss: 6.0516 - mean_absolute_error: 6.0516\n",
      "Epoch 55/100\n",
      "250/250 [==============================] - 0s 859us/step - loss: 5.8762 - mean_absolute_error: 5.8762\n",
      "Epoch 56/100\n",
      "250/250 [==============================] - 0s 807us/step - loss: 5.6856 - mean_absolute_error: 5.6856\n",
      "Epoch 57/100\n",
      "250/250 [==============================] - 0s 899us/step - loss: 5.5041 - mean_absolute_error: 5.5041\n",
      "Epoch 58/100\n",
      "250/250 [==============================] - 0s 761us/step - loss: 5.3197 - mean_absolute_error: 5.3197\n",
      "Epoch 59/100\n",
      "250/250 [==============================] - 0s 910us/step - loss: 5.1215 - mean_absolute_error: 5.1215\n",
      "Epoch 60/100\n",
      "250/250 [==============================] - 0s 829us/step - loss: 4.9374 - mean_absolute_error: 4.9374\n",
      "Epoch 61/100\n",
      "250/250 [==============================] - 0s 977us/step - loss: 4.7480 - mean_absolute_error: 4.7480\n",
      "Epoch 62/100\n",
      "250/250 [==============================] - 0s 796us/step - loss: 4.5349 - mean_absolute_error: 4.5349\n",
      "Epoch 63/100\n",
      "250/250 [==============================] - 0s 867us/step - loss: 4.3313 - mean_absolute_error: 4.3313\n",
      "Epoch 64/100\n",
      "250/250 [==============================] - 0s 1ms/step - loss: 4.1491 - mean_absolute_error: 4.1491\n",
      "Epoch 65/100\n",
      "250/250 [==============================] - 0s 1ms/step - loss: 3.9667 - mean_absolute_error: 3.9667\n",
      "Epoch 66/100\n",
      "250/250 [==============================] - 0s 1ms/step - loss: 3.7814 - mean_absolute_error: 3.7814\n",
      "Epoch 67/100\n",
      "250/250 [==============================] - 0s 860us/step - loss: 3.6019 - mean_absolute_error: 3.6019\n",
      "Epoch 68/100\n",
      "250/250 [==============================] - 0s 884us/step - loss: 3.4399 - mean_absolute_error: 3.4399\n",
      "Epoch 69/100\n",
      "250/250 [==============================] - 0s 846us/step - loss: 3.2869 - mean_absolute_error: 3.2869\n",
      "Epoch 70/100\n",
      "250/250 [==============================] - 0s 971us/step - loss: 3.1669 - mean_absolute_error: 3.1669\n",
      "Epoch 71/100\n",
      "250/250 [==============================] - 0s 834us/step - loss: 3.0591 - mean_absolute_error: 3.0591\n",
      "Epoch 72/100\n"
     ]
    },
    {
     "name": "stdout",
     "output_type": "stream",
     "text": [
      "250/250 [==============================] - 0s 797us/step - loss: 2.9808 - mean_absolute_error: 2.9808\n",
      "Epoch 73/100\n",
      "250/250 [==============================] - 0s 791us/step - loss: 2.9078 - mean_absolute_error: 2.9078\n",
      "Epoch 74/100\n",
      "250/250 [==============================] - 0s 791us/step - loss: 2.8609 - mean_absolute_error: 2.8609\n",
      "Epoch 75/100\n",
      "250/250 [==============================] - 0s 836us/step - loss: 2.8141 - mean_absolute_error: 2.8141\n",
      "Epoch 76/100\n",
      "250/250 [==============================] - 0s 800us/step - loss: 2.7719 - mean_absolute_error: 2.7719\n",
      "Epoch 77/100\n",
      "250/250 [==============================] - 0s 800us/step - loss: 2.7335 - mean_absolute_error: 2.7335\n",
      "Epoch 78/100\n",
      "250/250 [==============================] - 0s 821us/step - loss: 2.7137 - mean_absolute_error: 2.7137\n",
      "Epoch 79/100\n",
      "250/250 [==============================] - 0s 803us/step - loss: 2.7074 - mean_absolute_error: 2.7074\n",
      "Epoch 80/100\n",
      "250/250 [==============================] - 0s 785us/step - loss: 2.6691 - mean_absolute_error: 2.6691\n",
      "Epoch 81/100\n",
      "250/250 [==============================] - 0s 967us/step - loss: 2.6583 - mean_absolute_error: 2.6583\n",
      "Epoch 82/100\n",
      "250/250 [==============================] - 0s 986us/step - loss: 2.6402 - mean_absolute_error: 2.6402\n",
      "Epoch 83/100\n",
      "250/250 [==============================] - 0s 966us/step - loss: 2.6193 - mean_absolute_error: 2.6193\n",
      "Epoch 84/100\n",
      "250/250 [==============================] - 0s 1ms/step - loss: 2.6104 - mean_absolute_error: 2.6104\n",
      "Epoch 85/100\n",
      "250/250 [==============================] - 0s 904us/step - loss: 2.5946 - mean_absolute_error: 2.5946\n",
      "Epoch 86/100\n",
      "250/250 [==============================] - 0s 773us/step - loss: 2.6060 - mean_absolute_error: 2.6060\n",
      "Epoch 87/100\n",
      "250/250 [==============================] - 0s 1ms/step - loss: 2.5834 - mean_absolute_error: 2.5834\n",
      "Epoch 88/100\n",
      "250/250 [==============================] - 0s 867us/step - loss: 2.5599 - mean_absolute_error: 2.5599\n",
      "Epoch 89/100\n",
      "250/250 [==============================] - 0s 801us/step - loss: 2.5467 - mean_absolute_error: 2.5467\n",
      "Epoch 90/100\n",
      "250/250 [==============================] - 0s 966us/step - loss: 2.5327 - mean_absolute_error: 2.5327\n",
      "Epoch 91/100\n",
      "250/250 [==============================] - 0s 799us/step - loss: 2.5224 - mean_absolute_error: 2.5224\n",
      "Epoch 92/100\n",
      "250/250 [==============================] - 0s 805us/step - loss: 2.5130 - mean_absolute_error: 2.5130\n",
      "Epoch 93/100\n",
      "250/250 [==============================] - 0s 792us/step - loss: 2.5079 - mean_absolute_error: 2.5079\n",
      "Epoch 94/100\n",
      "250/250 [==============================] - 0s 784us/step - loss: 2.4901 - mean_absolute_error: 2.4901\n",
      "Epoch 95/100\n",
      "250/250 [==============================] - 0s 824us/step - loss: 2.4735 - mean_absolute_error: 2.4735\n",
      "Epoch 96/100\n",
      "250/250 [==============================] - 0s 792us/step - loss: 2.4640 - mean_absolute_error: 2.4640\n",
      "Epoch 97/100\n",
      "250/250 [==============================] - 0s 810us/step - loss: 2.4651 - mean_absolute_error: 2.4651\n",
      "Epoch 98/100\n",
      "250/250 [==============================] - 0s 794us/step - loss: 2.4468 - mean_absolute_error: 2.4468\n",
      "Epoch 99/100\n",
      "250/250 [==============================] - 0s 757us/step - loss: 2.4435 - mean_absolute_error: 2.4435\n",
      "Epoch 100/100\n",
      "250/250 [==============================] - 0s 1ms/step - loss: 2.4322 - mean_absolute_error: 2.4322\n"
     ]
    },
    {
     "data": {
      "text/plain": [
       "<keras.callbacks.History at 0x15fd8ad2ec0>"
      ]
     },
     "execution_count": 29,
     "metadata": {},
     "output_type": "execute_result"
    }
   ],
   "source": [
    "model.fit(X_train, y_train, epochs=100)"
   ]
  },
  {
   "cell_type": "code",
   "execution_count": 30,
   "id": "ba307443-5fcd-4b97-ba01-f771e455fc84",
   "metadata": {},
   "outputs": [
    {
     "name": "stdout",
     "output_type": "stream",
     "text": [
      "63/63 [==============================] - 0s 727us/step\n"
     ]
    }
   ],
   "source": [
    "y_pred = model.predict(X_test)"
   ]
  },
  {
   "cell_type": "code",
   "execution_count": 31,
   "id": "6f33a518-b797-43c9-840a-f2ae0af2e0f9",
   "metadata": {},
   "outputs": [],
   "source": [
    "from sklearn.metrics import mean_absolute_error, mean_squared_error, root_mean_squared_error"
   ]
  },
  {
   "cell_type": "code",
   "execution_count": 32,
   "id": "3f946fa9-98c8-422d-8916-7a0fd0733ec7",
   "metadata": {},
   "outputs": [],
   "source": [
    "abs_error = mean_absolute_error(y_test, y_pred)\n",
    "sqr_error = mean_squared_error(y_test, y_pred)\n",
    "rms_error = root_mean_squared_error(y_test, y_pred)"
   ]
  },
  {
   "cell_type": "code",
   "execution_count": 33,
   "id": "f36664be-a666-4270-bd77-062b54470319",
   "metadata": {},
   "outputs": [
    {
     "name": "stdout",
     "output_type": "stream",
     "text": [
      "mean_absolute_error(y_test, y_pred) 2.299992345542908\n",
      "mean_squared_error(y_test, y_pred) 15.864129144354877\n",
      "root_mean_squared_error(y_test, y_pred) 3.9829799327080315\n"
     ]
    }
   ],
   "source": [
    "print(\"mean_absolute_error(y_test, y_pred)\", abs_error)\n",
    "print(\"mean_squared_error(y_test, y_pred)\", sqr_error)\n",
    "print(\"root_mean_squared_error(y_test, y_pred)\", rms_error)"
   ]
  },
  {
   "cell_type": "code",
   "execution_count": 34,
   "id": "036cc5b5-1a14-4eab-94ba-417060646b72",
   "metadata": {},
   "outputs": [],
   "source": [
    "def predicting(Ship_Size, Speed_knots, Engine_Power_kW):\n",
    "    # Scale the numeric values using the StandardScaler\n",
    "    scaled_features = st_scaler.transform([[Engine_Power_kW, Speed_knots]])  # Combine numeric features for transformation\n",
    "    Engine_Power_kW_scaled, Speed_knots_scaled = scaled_features[0]\n",
    "    print(\"Engine_Power_kW_scaled, Speed_knots_scaled : \", Engine_Power_kW_scaled, Speed_knots_scaled)\n",
    "\n",
    "    # Encode the categorical value using the OneHotEncoder\n",
    "    encoded_ship_size = one_encoder.transform([[Ship_Size]])  # Transform the Ship_Size to encoded form\n",
    "    print(\"encoded_ship_size : \", encoded_ship_size)\n",
    "\n",
    "    # Combine all features into a single array for prediction\n",
    "    input_features = np.concatenate([[Engine_Power_kW_scaled, Speed_knots_scaled], encoded_ship_size[0]])\n",
    "    print(\"input_features : \", input_features)\n",
    "\n",
    "    # Ensure input is 2D by wrapping it in another list\n",
    "    input_features = np.expand_dims(input_features, axis=0)  # Convert to shape (1, num_features)\n",
    "    print(\"input_features reshaped: \", input_features)\n",
    "\n",
    "    # Predict fuel consumption using the model\n",
    "    fuel = model.predict(input_features)[0]  # Model expects 2D array; unpack result if needed\n",
    "\n",
    "    return fuel\n"
   ]
  },
  {
   "cell_type": "code",
   "execution_count": 35,
   "id": "6c75fcc9-14c6-40a0-af07-d066948f57b5",
   "metadata": {},
   "outputs": [
    {
     "name": "stdout",
     "output_type": "stream",
     "text": [
      "Engine_Power_kW_scaled, Speed_knots_scaled :  -0.8035341245220446 -0.9305493696681827\n",
      "encoded_ship_size :  [[1. 0. 0.]]\n",
      "input_features :  [-0.80353412 -0.93054937  1.          0.          0.        ]\n",
      "input_features reshaped:  [[-0.80353412 -0.93054937  1.          0.          0.        ]]\n",
      "1/1 [==============================] - 0s 49ms/step\n",
      "answer :  [4.4757633]\n"
     ]
    },
    {
     "name": "stderr",
     "output_type": "stream",
     "text": [
      "C:\\Users\\KARMA\\AppData\\Local\\Programs\\Python\\Python310\\lib\\site-packages\\sklearn\\base.py:493: UserWarning: X does not have valid feature names, but StandardScaler was fitted with feature names\n",
      "  warnings.warn(\n",
      "C:\\Users\\KARMA\\AppData\\Local\\Programs\\Python\\Python310\\lib\\site-packages\\sklearn\\base.py:493: UserWarning: X does not have valid feature names, but OneHotEncoder was fitted with feature names\n",
      "  warnings.warn(\n"
     ]
    }
   ],
   "source": [
    "Engine_Power_kW = 8185\n",
    "Speed_knots = 13.5\n",
    "Ship_Size = 'Medium'\n",
    "answer = predicting(Ship_Size, Speed_knots, Engine_Power_kW)\n",
    "print(\"answer : \", answer)"
   ]
  },
  {
   "cell_type": "code",
   "execution_count": null,
   "id": "5b259208-27c8-4a88-abf8-29624589cccc",
   "metadata": {},
   "outputs": [],
   "source": []
  },
  {
   "cell_type": "code",
   "execution_count": null,
   "id": "d38a8bdf",
   "metadata": {},
   "outputs": [],
   "source": []
  }
 ],
 "metadata": {
  "kernelspec": {
   "display_name": "Python 3 (ipykernel)",
   "language": "python",
   "name": "python3"
  },
  "language_info": {
   "codemirror_mode": {
    "name": "ipython",
    "version": 3
   },
   "file_extension": ".py",
   "mimetype": "text/x-python",
   "name": "python",
   "nbconvert_exporter": "python",
   "pygments_lexer": "ipython3",
   "version": "3.10.11"
  }
 },
 "nbformat": 4,
 "nbformat_minor": 5
}
